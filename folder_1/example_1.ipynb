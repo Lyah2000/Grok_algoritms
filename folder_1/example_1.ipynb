{
 "cells": [
  {
   "cell_type": "markdown",
   "metadata": {},
   "source": [
    "# Упражнение 1.1\n",
    "Мы создадим список имен, которые будут отсортированы по алфавиту (их будет не 128), ограничимся 8, и попробуем искать какое-то имя двумя способами простой поиск и бинарный"
   ]
  },
  {
   "cell_type": "code",
   "execution_count": 3,
   "metadata": {},
   "outputs": [],
   "source": [
    "names = ['Adam', 'Bernard', 'Caleb', 'Edgar', 'Edward', 'Franklin', 'Jack', 'Kevin']"
   ]
  },
  {
   "cell_type": "markdown",
   "metadata": {},
   "source": [
    "Ниже приведен код простого поиска. Мы запрашиваем у пользователя имя и выдаем индекс, по которому он находится в списке, если этого имени нету в списке, то сообщение \"Такого имени нету в списке\". "
   ]
  },
  {
   "cell_type": "code",
   "execution_count": 12,
   "metadata": {},
   "outputs": [
    {
     "name": "stdout",
     "output_type": "stream",
     "text": [
      "Такого имени нету в списке\n",
      "Такого имени нету в списке\n",
      "0  -  Adam\n",
      "2  -  Caleb\n",
      "7  -  Kevin\n"
     ]
    }
   ],
   "source": [
    "while True: \n",
    "    find_name = input('Введите имя') # вводим искомое имя\n",
    "\n",
    "    if find_name == 'stop': # способ выхода из программы\n",
    "        break\n",
    "    \n",
    "    i = 0 # счетчик, который указывает на то, было ли найдено имя\n",
    "    for index_name in range(len(names)): # проходим по индексам имен\n",
    "        if find_name == names[index_name]: # сравниваем имя с искомым именем\n",
    "            print(index_name, ' - ', find_name) # если было нацдено совпадение выводим позицию\n",
    "            check = 1 # и изменяем счетчик\n",
    "\n",
    "    if i == 0: # если счетчик в течение всей программы не изменился, то соответствующее сообщение\n",
    "        print('Такого имени нету в списке')\n"
   ]
  },
  {
   "cell_type": "markdown",
   "metadata": {},
   "source": [
    "Выше приведен пример кода полноценной программы поиска имени. Нам же нужно оценить время поиска по списку, для этого немного переконструируем вышеизложенный код. Логика остается прежней"
   ]
  },
  {
   "cell_type": "code",
   "execution_count": 90,
   "metadata": {},
   "outputs": [],
   "source": [
    "def classic_search(find_name, names):\n",
    "    i = 0\n",
    "    for index_name in range(len(names)):\n",
    "            if find_name == names[index_name]:\n",
    "                print(f'Имя {find_name} имеет индекс {index_name}')\n",
    "                i = 1\n",
    "    \n",
    "    if i == 0: # если счетчик в течение всей программы не изменился, то соответствующее сообщение\n",
    "        print('Такого имени нету в списке')\n"
   ]
  },
  {
   "cell_type": "code",
   "execution_count": 92,
   "metadata": {},
   "outputs": [
    {
     "name": "stdout",
     "output_type": "stream",
     "text": [
      "Имя Kevin имеет индекс 7\n",
      "0.0\n"
     ]
    }
   ],
   "source": [
    "import time\n",
    "\n",
    "find_name = 'Kevin'\n",
    "start_time = time.time()\n",
    "classic_search(find_name, names)\n",
    "end_time = time.time()\n",
    "print(end_time-start_time)"
   ]
  },
  {
   "cell_type": "markdown",
   "metadata": {},
   "source": [
    "Вроде бы все окей, только вот время 0.0 с. Если это Вас смутило, то не смущайтесь. Дело в том, что в языке Python есть свои фишки и приколы (как собственно в любом другом языке программирования). Здесь прикол в том, что мы получаем слишком маленькое значение времени (но не нулевое), что вполне логично, было бы странно получить 3с, запуская код на современном компьютере. Python всего на всего делает округление, и это округление приводит к результату 0.\n",
    "\n",
    "Конечно мы можем придумать 1 000 000 имен или найти нужную библиотеку с огромным количеством имен, и записать все это в список names, но давайте пойдем другим путем. Давайте немного переделаем поставленную задачу. Пускай у нас в списке будут лежать номера имен. Эти номера будут отсортированы, и поиск мы будем проводить по номеру, а не по имени. Ну т.е. мы подразумеваем, что зная номер, мы будем знать и имя. "
   ]
  },
  {
   "cell_type": "code",
   "execution_count": 74,
   "metadata": {},
   "outputs": [],
   "source": [
    "def classic_sort_2(find_name, all_names):\n",
    "    i = 0\n",
    "    for index_name in range(len(all_names)):\n",
    "        if find_name == all_names[index_name]:\n",
    "            print(f'Имя под номером {find_name} имеет индекс {index_name}')\n",
    "    \n",
    "    if i == 0:\n",
    "        print('Такого имени нету в списке')"
   ]
  },
  {
   "cell_type": "code",
   "execution_count": 80,
   "metadata": {},
   "outputs": [
    {
     "name": "stdout",
     "output_type": "stream",
     "text": [
      "Имя под номером 562999 имеет индекс562998\n",
      "0.17386388778686523\n"
     ]
    }
   ],
   "source": [
    "new_names = [i for i in range(1, 1000000)] # новый список \"имен\"\n",
    "number_name = 562999 # теперь поиск не по имени, а по номеру имени в списке, пусть Кевин будет 562 999\n",
    "start_time = time.time()\n",
    "classic_sort_2(number_name, new_names)\n",
    "end_time = time.time()\n",
    "print(end_time-start_time) # вывод времени работы"
   ]
  },
  {
   "cell_type": "markdown",
   "metadata": {},
   "source": [
    "Согласитесь, теперь все намного нагляднее стало. Попробуйте повводить различные номера имен, и увидите, что с увеличением номера, увеличивается и время, а чем меньше номер, тем меньше и время. Представьте ситуацию, что в ночной клуб пропускают только по приглашению, и список всех приглашенных в алфавитном порядке находится у охранника. Наверное, это будет грустно, если Якову придется стоять и ждать результата 5 минут, а Адама практически моментально пропустят (с 5 минутами может перебор, но надеюсь суть вы уловили). \n",
    "\n",
    "Теперь мы плавно переходим к бинарному поиску. Функция бинарного поиска, вызов функции и время работы приведено ниже"
   ]
  },
  {
   "cell_type": "code",
   "execution_count": 130,
   "metadata": {},
   "outputs": [],
   "source": [
    "def binary_search(find_name, all_names):\n",
    "    \n",
    "    low_index = 0\n",
    "    high_index = len(all_names)-1\n",
    "    \n",
    "\n",
    "    while low_index <= high_index:\n",
    "        middle_index = (low_index + high_index) // 2\n",
    "        if find_name > all_names[middle_index]:\n",
    "            low_index = middle_index + 1\n",
    "        \n",
    "        elif find_name < all_names[middle_index]:\n",
    "            high_index = middle_index - 1\n",
    "        \n",
    "        else:\n",
    "            print(f'Имя под номером {find_name} имеет индекс {middle_index}')\n",
    "            return\n",
    "    \n",
    "    print('Имени под данным номером не существует')\n",
    "\n",
    "        "
   ]
  },
  {
   "cell_type": "code",
   "execution_count": 131,
   "metadata": {},
   "outputs": [
    {
     "name": "stdout",
     "output_type": "stream",
     "text": [
      "Имя под номером 569679 имеет индекс 569678\n",
      "0.000997304916381836\n"
     ]
    }
   ],
   "source": [
    "new_names = [i for i in range(1,1000000)]\n",
    "find_name = 569_679\n",
    "start_time = time.time()\n",
    "binary_search(find_name, new_names)\n",
    "end_time = time.time()\n",
    "print(end_time-start_time)"
   ]
  },
  {
   "cell_type": "markdown",
   "metadata": {},
   "source": [
    "Как и с classic_search() поиграйтесь с find_name. Обратите внимание, что диапазон времени во всех случаях всегда приблизительно одинаковый, и намного меньше чем у classic_search"
   ]
  },
  {
   "cell_type": "code",
   "execution_count": null,
   "metadata": {},
   "outputs": [],
   "source": []
  }
 ],
 "metadata": {
  "interpreter": {
   "hash": "9363dc131ef194b2f28a3b136b4153138bb891634d04c7d3fc6a2887135a1464"
  },
  "kernelspec": {
   "display_name": "Python 3.8.3 32-bit",
   "language": "python",
   "name": "python3"
  },
  "language_info": {
   "codemirror_mode": {
    "name": "ipython",
    "version": 3
   },
   "file_extension": ".py",
   "mimetype": "text/x-python",
   "name": "python",
   "nbconvert_exporter": "python",
   "pygments_lexer": "ipython3",
   "version": "3.8.3"
  },
  "orig_nbformat": 4
 },
 "nbformat": 4,
 "nbformat_minor": 2
}
